{
 "cells": [
  {
   "cell_type": "markdown",
   "id": "90a282a5-ecea-4ea9-8c9a-6ff156a66642",
   "metadata": {},
   "source": [
    "# LABORATORIO 12/04/22"
   ]
  },
  {
   "cell_type": "markdown",
   "id": "5e3b30c9-dcee-43c2-a9ef-5bd2155fec54",
   "metadata": {},
   "source": [
    "$ \\textbf{obiettivo giornata:} $ vogliamo capire qual è la temperatura di transizione da una fase all'altra, cioè dalla (1x1) alla (1x2) che è la configurazione di minor energia. $ \\\\ $ \n",
    "\n",
    "$\\underline{Osservazione:} $ la struttura (1x1) con $ O_2 $ la otteniamo con una superficie metastabile (cioè senza $ O_2 $ ) "
   ]
  },
  {
   "cell_type": "markdown",
   "id": "50e79680-bd0f-4752-996c-3222d1499bc8",
   "metadata": {},
   "source": [
    "(14:18) coordinata y spostata a $ 10 $ mm"
   ]
  },
  {
   "cell_type": "markdown",
   "id": "b09cbbe0-529c-42c2-a1fb-495a340a39ad",
   "metadata": {},
   "source": [
    "### coordinate Sputtering\n",
    "\n",
    "  X [mm] |   Y [mm] |  Z [mm]|  $ \\theta $ [deg] | \n",
    "----|------|----|----------|\n",
    "22.0  | 12.0     | 15.5   | 126|    "
   ]
  },
  {
   "cell_type": "markdown",
   "id": "973eaafc-89fb-4860-a291-73ac1bb41da0",
   "metadata": {},
   "source": [
    "### coordinate LEED\n",
    "\n",
    "  X [mm] |   Y [mm] |  Z [mm]|  $ \\theta $ [deg] | \n",
    "----|------|----|----------|\n",
    "34.18  | 32.0     | 46.5  | 127.5|  "
   ]
  },
  {
   "cell_type": "markdown",
   "id": "fd4ae239-b596-4922-9a65-5a659b35abe5",
   "metadata": {},
   "source": [
    "(14:33) apertura gas "
   ]
  },
  {
   "cell_type": "markdown",
   "id": "dbb13914-9766-46bc-a8f9-e2daa1b1a662",
   "metadata": {},
   "source": [
    "(14:41) costruzione circuito: emissione $ 15 \\mu A $. Piccolo problema con un cavo, sostituito senza ulteriori problemi."
   ]
  },
  {
   "cell_type": "markdown",
   "id": "37a68987-ec5b-4df3-be31-4c29baad9d7f",
   "metadata": {},
   "source": [
    "(15:13) chiusura gas. Vogliamo raggiungere una temperatura di $ 1000^°C $ "
   ]
  },
  {
   "cell_type": "markdown",
   "id": "8a73c528-94b3-4f12-908c-03a5abc7e6e2",
   "metadata": {},
   "source": [
    "(15:16) campione ha raggiunto $ T = 1000^°C $, ci portiamo davanti al LEED."
   ]
  },
  {
   "cell_type": "markdown",
   "id": "c43f967f-1cd3-452a-ab04-8ad125c2e086",
   "metadata": {},
   "source": [
    "(15:28) accendiamo il LEED, vediamo la (1x2) ad un'energia pari a  $ E = 200 $ eV (no acquisizione immagine) "
   ]
  },
  {
   "cell_type": "markdown",
   "id": "a01509f1-a460-4d91-a062-2fd51741f4b6",
   "metadata": {},
   "source": [
    "(15:49): chiusura valvola $ O_2 $, accendiamo il LEED, vediamo la struttura (1x1)."
   ]
  },
  {
   "cell_type": "markdown",
   "id": "f0a42bb5-aeaf-44b8-9117-ce9cd63d3279",
   "metadata": {},
   "source": [
    "(15:54) Apriamo valvola ed inseriamo $ H_2 $: si forma $ H_2O $ a bassa temperatura con una pressione di circa $ 10^{-7} $ mbar"
   ]
  },
  {
   "cell_type": "markdown",
   "id": "d7ccb1bf-6d7f-4496-83ac-cff069674a92",
   "metadata": {},
   "source": [
    "(16:02) chiusura $ H_2 $ campione a $ T = 120^°C $. L' $ O_2 $ era centro scatteratore e faceva aumentare il background. Check immagine di diffrazione: è molto più bella e pulita "
   ]
  },
  {
   "cell_type": "markdown",
   "id": "588f6ba7-c33f-4a45-bdb4-529edf61d9ac",
   "metadata": {},
   "source": [
    "(16:03)  inizio pausa $ \\\\ $ \n",
    "\n",
    "\n",
    "\n",
    "\n",
    "(16:30) fine pausa "
   ]
  },
  {
   "cell_type": "markdown",
   "id": "b90ab468-17b2-4398-9893-11c040cb4533",
   "metadata": {},
   "source": [
    "Cerchiamo di prende misure di $ 50^°C $ in $ 50^°C $ di temperatura "
   ]
  },
  {
   "cell_type": "markdown",
   "id": "1d4b1d89-aa4c-4ad8-bbb2-9f0170453edf",
   "metadata": {},
   "source": [
    "(16:40) check immagine di diffrazione: non cambia nulla $ \\\\ $ \n",
    "\n",
    "(16:45) check immagine di diffrazione: non cambia nulla $ \\\\ $ \n",
    "\n",
    "(16:53) check immagine di diffrazione: $ T = 500^°C $,  non cambia nulla $ \\\\ $ \n",
    "\n",
    "(16:57) start acquisizione del seti di immagini; campione staccato dalla terra, collegato al polo positivo della \"bestia\" a $ V = 250 $ V. Portati a  $ T = 510^°C $ "
   ]
  },
  {
   "cell_type": "markdown",
   "id": "b62fcba9-06bf-48c1-9939-f1851a868557",
   "metadata": {},
   "source": [
    "(17:01) campione collegato a terra nuovamente $ \\\\ $ \n",
    "\n",
    "(17:05) inizio effettivo acquisizione immagini "
   ]
  },
  {
   "cell_type": "code",
   "execution_count": null,
   "id": "cbdad306-9987-407d-affb-10ef11d5963a",
   "metadata": {},
   "outputs": [],
   "source": []
  }
 ],
 "metadata": {
  "kernelspec": {
   "display_name": "Python 3 (ipykernel)",
   "language": "python",
   "name": "python3"
  },
  "language_info": {
   "codemirror_mode": {
    "name": "ipython",
    "version": 3
   },
   "file_extension": ".py",
   "mimetype": "text/x-python",
   "name": "python",
   "nbconvert_exporter": "python",
   "pygments_lexer": "ipython3",
   "version": "3.9.12"
  }
 },
 "nbformat": 4,
 "nbformat_minor": 5
}
