{
 "cells": [
  {
   "cell_type": "markdown",
   "id": "10d8a342-ef1b-4d80-9226-684138b43c02",
   "metadata": {},
   "source": [
    "# LABORATORIO 18/05/22"
   ]
  },
  {
   "cell_type": "markdown",
   "id": "1b54ef79-48c5-43a3-8e9b-eee7d8ecdc59",
   "metadata": {},
   "source": [
    "$ \\textbf{obiettivo giornata:} $ vogliamo dosare etilene ($ C_2H_4 $) dosato a $ T = T_{amb} $. Esso si dissocia sulla superficie della molecola, già parzialmente dissociata; dal processo di riscaldamento queste specie deformate danno vita a delle strutture ordinate, cioè: $ \\\\ $ \n",
    "\n",
    "* struttura P(2x2) $ \\\\ $ \n",
    "* struttura P(3x1) $ \\\\ $ \n",
    "\n",
    "$\\underline{Nota:} $ il nostro limite, a causa di un mal funzionamento della termocoppia, è $ T = 900^°C $. Otterremo comunque la superficie pulita, ma non è la miglior superficie pulita ottenibile."
   ]
  },
  {
   "cell_type": "markdown",
   "id": "8034a72a-9bc7-4413-9093-909efd56d0bd",
   "metadata": {},
   "source": [
    "(14:45) ci portiamo in condizioni di sputtering "
   ]
  },
  {
   "cell_type": "markdown",
   "id": "87fada88-9356-4fef-bf80-16459d9fed87",
   "metadata": {},
   "source": [
    "(14:48) start pulizia per $ 30 min $ con argon a $ p = 5x10^{-7} $ mbar "
   ]
  },
  {
   "cell_type": "markdown",
   "id": "69bb9c46-0975-4561-b211-c50807af9c8d",
   "metadata": {},
   "source": [
    "(15:18) fine pompaggio argon"
   ]
  },
  {
   "cell_type": "markdown",
   "id": "f0e07084-b6b8-4925-b4a1-dcede222548d",
   "metadata": {},
   "source": [
    "Cerchiamo di portarci a $ T = 900^°C $. Inizio del riscaldamento $ \\\\ $ \n",
    "\n",
    "(15:34) portati a $ T = 920^°C $ $ \\\\ $ \n",
    "\n",
    "(15:35) aperta valvola $ O_2 $ e inizio ciclo riscaldamento. $ \\\\ $ \n",
    "\n",
    "(15:43) start primo ciclo riscaldamento a $ T = 700^°C $ . $ \\\\ $ \n",
    "\n",
    "(15:45) fine primo ciclo riscaldamento $ \\\\ $ \n",
    "\n",
    "(15:47) start secondo ciclo riscaldamento a $ T = 700^°C $ . $ \\\\ $ \n",
    "\n",
    "(15:48) fine secondo ciclo riscaldamento $ \\\\ $ \n",
    "\n",
    "(15:52) start terzo ciclo riscaldamento a $ T = 700^°C $ . $ \\\\ $\n",
    "\n",
    "(15:53) fine terzo ciclo riscaldamento $ \\\\ $ "
   ]
  },
  {
   "cell_type": "markdown",
   "id": "9c0279fd-a20b-4394-87b0-3c8767347485",
   "metadata": {},
   "source": [
    "(15:55) chiusura valvola $ O_2 $ e apertura valvola $ H_2 $ "
   ]
  },
  {
   "cell_type": "markdown",
   "id": "24ac57ce-7d1a-4c06-b9df-e1784f0c9b64",
   "metadata": {},
   "source": [
    "(16:00) apertura valvola $ H_2 $ e inizio altro ciclo riscaldamento. $ \\\\ $ \n",
    "\n",
    "(16:02) start primo ciclo riscaldamento a $ T = 500^°C $ . $ \\\\ $ \n",
    "\n",
    "(16:05) fine primo ciclo riscaldamento $ \\\\ $ \n",
    "\n",
    "(16:08) start secondo ciclo riscaldamento a $ T = 500^°C $ . $ \\\\ $ \n",
    "\n",
    "(16:09) fine secondo ciclo riscaldamento $ \\\\ $ \n",
    "\n",
    "(16:13) start terzo ciclo riscaldamento a $ T = 500^°C $ . $ \\\\ $ \n",
    "\n",
    "(16:15) fine terzo ciclo riscaldamento $ \\\\ $"
   ]
  },
  {
   "cell_type": "markdown",
   "id": "9e5e501a-49b1-4271-bee9-9477af4c2d5c",
   "metadata": {},
   "source": [
    "(16:29) portati in coordinate LEED "
   ]
  },
  {
   "cell_type": "markdown",
   "id": "86a6e1b1-e994-4080-b106-06b6ee33bc8b",
   "metadata": {},
   "source": [
    "Vogliamo vedere se il campione è centrato correttamente: mi sposto a SX e DX e vedo quanto aumenta/cala la luminosità degli spot di diffrazione. Trovo il punto medio e inserisco quello come coordinate LEED "
   ]
  },
  {
   "cell_type": "markdown",
   "id": "3f72349b-46fb-438a-834d-3a640ffcd8a2",
   "metadata": {},
   "source": [
    "### coordinate LEED\n",
    "\n",
    "  X [mm] |   Y [mm] |  Z [mm]|\n",
    "----|------|----|\n",
    "26.5  | 40.0     | 41.25 |   "
   ]
  },
  {
   "cell_type": "markdown",
   "id": "da569b7e-54b2-4649-83c2-8fcd93087799",
   "metadata": {},
   "source": [
    "(16:42) Riscaldamento fino a $ T = 300^°C $ e poi doseremo con l'etilene"
   ]
  },
  {
   "cell_type": "markdown",
   "id": "1cba4664-6e24-414d-88b1-4a906a351c57",
   "metadata": {},
   "source": [
    "(16:56) start ingresso etilene $ \\\\ $ \n",
    "\n",
    "(17:03) fine pompaggio etilene"
   ]
  },
  {
   "cell_type": "markdown",
   "id": "51251f4a-e220-4cc9-b69b-338397c47fad",
   "metadata": {},
   "source": [
    "### Presa immagini LEED \n",
    "\n",
    "(17:10 ) $ \\quad $  $ T_1 = 200^°C $ (immagine bella) \n",
    "\n",
    "  E [ev] |   frames  |  image| note | \n",
    "----|------|----|----|\n",
    "68  | 200| 18_5_22_000 |\n",
    "85 | 200| 18_5_22_001 | si vede la P(2x2)|\n",
    "95| 200| 18_5_22_003 |"
   ]
  },
  {
   "cell_type": "markdown",
   "id": "855baaeb-2002-407a-9fe4-e91cd89ac4c4",
   "metadata": {},
   "source": [
    "$ \\quad $  $ T_2 = 304^°C $ \n",
    "\n",
    "  E [ev] |   frames  |  image| note | \n",
    "----|------|----|----|\n",
    "68  | 200| 18_5_22_003 |\n",
    "85 | 200| 18_5_22_004 | brutte immagini |\n",
    "95| 200| 18_5_22_005 |"
   ]
  },
  {
   "cell_type": "markdown",
   "id": "45a58731-64b4-4cd0-8dd3-ba7dd0d76af2",
   "metadata": {},
   "source": [
    "$ \\quad $  $ T_3 = 406^°C $ \n",
    "\n",
    "  E [ev] |   frames  |  image| note | \n",
    "----|------|----|----|\n",
    "68  | 200| 18_5_22_006 |\n",
    "85 | 200| 18_5_22_007| |\n",
    "95| 200| 18_5_22_008|"
   ]
  },
  {
   "cell_type": "markdown",
   "id": "2c727a73-6b5d-47d9-b5f3-6c335a5eadbb",
   "metadata": {},
   "source": [
    "$ \\quad $  $ T_4 = 500^°C $ (immagine bella) \n",
    "\n",
    "  E [ev] |   frames  |  image| note | \n",
    "----|------|----|----|\n",
    "68  | 200| 18_5_22_009 |\n",
    "85 | 200| 18_5_22_010| si vede la P(3x1) |\n",
    "95| 200| 18_5_22_011 |"
   ]
  },
  {
   "cell_type": "markdown",
   "id": "aa75d013-4ed2-4dad-a242-345688586029",
   "metadata": {},
   "source": [
    "Valve CF63 -----> torno al LEED per prendere i dati $ \\\\ $\n",
    "\n",
    "$ \\quad $  $ T_5 = 599^°C $ \n",
    "\n",
    "  E [ev] |   frames  |  image| note | \n",
    "----|------|----|----|\n",
    "68  | 200| 18_5_22_012 | P(3x1) peggiorata nettamente |\n",
    "85 | 200| 18_5_22_013 | \n",
    "95| 200| 18_5_22_014 |"
   ]
  },
  {
   "cell_type": "markdown",
   "id": "3b36e482-7f0f-4ecc-8c7a-44cdade7f611",
   "metadata": {},
   "source": [
    "Valve CF63 -----> torno al LEED per prendere i dati $ \\\\ $\n",
    "\n",
    "$ \\quad $  $ T_6 = 700^°C $ \n",
    "\n",
    "  E [ev] |   frames  |  image| note | \n",
    "----|------|----|----|\n",
    "68  | 200| 18_5_22_015 |  |\n",
    "85 | 200| 18_5_22_016| \n",
    "95| 200| 18_5_22_017|"
   ]
  },
  {
   "cell_type": "markdown",
   "id": "eed40b01-2d2e-4d6e-a171-e0eaf81ba778",
   "metadata": {},
   "source": [
    "Valve CF63 -----> torno al LEED per prendere i dati $ \\\\ $\n",
    "\n",
    "$ \\quad $  $ T_7 = 787^°C $ \n",
    "\n",
    "  E [ev] |   frames  |  image| note | \n",
    "----|------|----|----|\n",
    "68  | 200| 18_5_22_018 | \n",
    "85 | 200| 18_5_22_019 | P(3x1) + $ 500^°C $ |\n",
    "95| 200| 18_5_22_020 |"
   ]
  },
  {
   "cell_type": "markdown",
   "id": "0d768629-dcd9-457c-afc2-442fcc958ad0",
   "metadata": {},
   "source": [
    "Valve CF63 -----> torno al LEED per prendere i dati $ \\\\ $\n",
    "\n",
    "$ \\quad $  $ T_8 = 901^°C $ \n",
    "\n",
    "  E [ev] |   frames  |  image| note | \n",
    "----|------|----|----|\n",
    "68  | 200| 18_5_22_021 \n",
    "85 | 200| 18_5_22_022| si comincia a vedere grafene!|\n",
    "95| 200| 18_5_22_023|"
   ]
  },
  {
   "cell_type": "code",
   "execution_count": null,
   "id": "454e0900-4b29-4e92-b1e9-5d5771166fc5",
   "metadata": {},
   "outputs": [],
   "source": []
  }
 ],
 "metadata": {
  "kernelspec": {
   "display_name": "Python 3 (ipykernel)",
   "language": "python",
   "name": "python3"
  },
  "language_info": {
   "codemirror_mode": {
    "name": "ipython",
    "version": 3
   },
   "file_extension": ".py",
   "mimetype": "text/x-python",
   "name": "python",
   "nbconvert_exporter": "python",
   "pygments_lexer": "ipython3",
   "version": "3.9.12"
  }
 },
 "nbformat": 4,
 "nbformat_minor": 5
}
