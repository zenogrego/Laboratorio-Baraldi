{
 "cells": [
  {
   "cell_type": "code",
   "execution_count": 392,
   "id": "84b06b12-226b-47f8-9584-d6d82cde6c8a",
   "metadata": {},
   "outputs": [],
   "source": [
    "import numpy as np\n",
    "import matplotlib.pyplot as plt\n",
    "import pandas as pd\n",
    "from scipy.optimize import curve_fit    \n",
    "plt.style.use(['science', 'notebook'])"
   ]
  },
  {
   "cell_type": "markdown",
   "id": "e1bb0519-5903-4e92-bd7b-9231c503fbd1",
   "metadata": {},
   "source": [
    "# Reticolo diretto Ir(311)"
   ]
  },
  {
   "cell_type": "markdown",
   "id": "3c8b5f1a-3c7f-49cd-b464-cb3d97c5e12a",
   "metadata": {},
   "source": [
    "definiamo i vettori di reticolo diretto:"
   ]
  },
  {
   "cell_type": "code",
   "execution_count": 393,
   "id": "559acf9a-f402-403d-8572-85e0a1c2cfbb",
   "metadata": {},
   "outputs": [],
   "source": [
    "x = np.array([2.7082, 0])\n",
    "y = np.array([1.35  , 4.49])\n",
    "\n",
    "a1 =  x  #vettore primitivo a1\n",
    "a2 =  y  #vettore primitivo a2\n"
   ]
  },
  {
   "cell_type": "markdown",
   "id": "820cf0ab-280a-41a8-a639-b0d90903b002",
   "metadata": {},
   "source": [
    "definiamo un set di punti che a partire dai vettori a1 e a2 mi definiscono il reticolo diretto:"
   ]
  },
  {
   "cell_type": "code",
   "execution_count": 394,
   "id": "dfac92df-3654-4bbd-a405-df185a5c31b5",
   "metadata": {},
   "outputs": [],
   "source": [
    "pts = np.array( [ [0, 2.7082, 5.4164, 8.1246, 10.8328, 13.541, 16.2492, 18.9574, 21.6656,\n",
    "                   1.35, 4.0582, 6.7664, 9.4746, 12.1828, 14.891, 17.5992, 20.3074, 23.0156,\n",
    "                   2.7082, 5.4164, 8.1246, 10.8328, 13.541, 16.2492, 18.9574, 21.6656,\n",
    "                   1.35, 4.0582, 6.7664, 9.4746, 12.1828, 14.891, 17.5992, 20.3074, 23.0156,\n",
    "                  2.7082, 5.4164, 8.1246, 10.8328, 13.541, 16.2492, 18.9574, 21.6656], \n",
    "                  [0, 0, 0, 0, 0, 0, 0, 0, 0, \n",
    "                   4.49, 4.49, 4.49, 4.49, 4.49, 4.49, 4.49, 4.49, 4.49,\n",
    "                   8.98, 8.98, 8.98, 8.98, 8.98, 8.98, 8.98, 8.98,\n",
    "                   13.47, 13.47, 13.47, 13.47, 13.47, 13.47, 13.47, 13.47, 13.47, \n",
    "                  17.96, 17.96, 17.96, 17.96, 17.96, 17.96, 17.96, 17.96] ] )"
   ]
  },
  {
   "cell_type": "code",
   "execution_count": 395,
   "id": "0f14f884-6bee-41bb-ae41-c318b61d932f",
   "metadata": {},
   "outputs": [
    {
     "data": {
      "text/plain": [
       "array([[ 0.    ,  2.7082,  5.4164,  8.1246, 10.8328, 13.541 , 16.2492,\n",
       "        18.9574, 21.6656,  1.35  ,  4.0582,  6.7664,  9.4746, 12.1828,\n",
       "        14.891 , 17.5992, 20.3074, 23.0156,  2.7082,  5.4164,  8.1246,\n",
       "        10.8328, 13.541 , 16.2492, 18.9574, 21.6656,  1.35  ,  4.0582,\n",
       "         6.7664,  9.4746, 12.1828, 14.891 , 17.5992, 20.3074, 23.0156,\n",
       "         2.7082,  5.4164,  8.1246, 10.8328, 13.541 , 16.2492, 18.9574,\n",
       "        21.6656],\n",
       "       [ 0.    ,  0.    ,  0.    ,  0.    ,  0.    ,  0.    ,  0.    ,\n",
       "         0.    ,  0.    ,  4.49  ,  4.49  ,  4.49  ,  4.49  ,  4.49  ,\n",
       "         4.49  ,  4.49  ,  4.49  ,  4.49  ,  8.98  ,  8.98  ,  8.98  ,\n",
       "         8.98  ,  8.98  ,  8.98  ,  8.98  ,  8.98  , 13.47  , 13.47  ,\n",
       "        13.47  , 13.47  , 13.47  , 13.47  , 13.47  , 13.47  , 13.47  ,\n",
       "        17.96  , 17.96  , 17.96  , 17.96  , 17.96  , 17.96  , 17.96  ,\n",
       "        17.96  ]])"
      ]
     },
     "execution_count": 395,
     "metadata": {},
     "output_type": "execute_result"
    }
   ],
   "source": [
    "#visualizziamo le coordinate di questi punti  \n",
    "\n",
    "pts"
   ]
  },
  {
   "cell_type": "markdown",
   "id": "24e01c62-996a-4726-87ff-a2807c63b422",
   "metadata": {},
   "source": [
    "Andiamo a visualizzare in un grafico il reticolo diretto 2D"
   ]
  },
  {
   "cell_type": "code",
   "execution_count": 396,
   "id": "5d86daf9-4d87-4c00-ae00-98f44c593714",
   "metadata": {},
   "outputs": [
    {
     "data": {
      "image/png": "[encoded data removed]",
      "text/plain": [
       "<Figure size 576x432 with 1 Axes>"
      ]
     },
     "metadata": {
      "needs_background": "light"
     },
     "output_type": "display_data"
    }
   ],
   "source": [
    "#visualizziamo il reticolo 2D\n",
    "                    \n",
    "plt.scatter(pts[0,:], pts[1,:], color = 'black')\n",
    "\n",
    "#plottiamo i vettori d reticolo diretto\n",
    "vectors = np.array([ [0, 0, a1[0], a1[1]], [0, 0, a2[0], a2[1]]])  \n",
    "X, Y, U, V = zip(*vectors)\n",
    "ax = plt.gca()\n",
    "ax.quiver(X, Y, U, V, angles='xy', scale_units='xy', scale=1, color=['red', 'red'] , label=' $a_1$, $a_2$')\n",
    "\n",
    "#fissiamo un limite agli assi x ed y \n",
    "ax.set_xlim([-1, 25])\n",
    "ax.set_ylim([-1, 20])\n",
    "plt.title(\"Reticolo diretto Ir(311)\")\n",
    "plt.xlabel('x [angstrom]')\n",
    "plt.ylabel('y [angstrom]')\n",
    "plt.legend()\n",
    "plt.show()"
   ]
  },
  {
   "cell_type": "markdown",
   "id": "3ddc535a-91a7-487c-9727-78bcabe90c61",
   "metadata": {},
   "source": [
    "# Reticolo reciproco Ir(311)"
   ]
  },
  {
   "cell_type": "markdown",
   "id": "554b9107-b250-4e4f-85ff-a376e36b50e4",
   "metadata": {},
   "source": [
    "definiamo i vettori di reticolo reciproco:"
   ]
  },
  {
   "cell_type": "code",
   "execution_count": 397,
   "id": "98b48aa8-d070-463a-afe4-98d31dcbca9f",
   "metadata": {},
   "outputs": [],
   "source": [
    "w = np.array([2.3200, -0.6976])\n",
    "z = np.array([0  , 1.3993])\n",
    "\n",
    "b1 =  w  #vettore primitivo b1\n",
    "b2 =  z  #vettore primitivo b2"
   ]
  },
  {
   "cell_type": "markdown",
   "id": "ea093ab5-45a1-4b26-8fe8-ba832cce4c80",
   "metadata": {},
   "source": [
    "definiamo un set di punti che a partire dai vettori b1 e b2 mi definiscono il reticolo reciproco:"
   ]
  },
  {
   "cell_type": "code",
   "execution_count": 398,
   "id": "8f00d170-9899-41ab-af4b-99b240bd7efe",
   "metadata": {},
   "outputs": [],
   "source": [
    "pts1 = np.array( [  [0, 2.32, 4.64, 6.96, 9.28,\n",
    "                     0, 0, 0, 0, 0, \n",
    "                    2.32, 4.64, 6.96, 9.28, \n",
    "                    2.32, 4.64, 6.96, 9.28, \n",
    "                    2.32, 4.64, 6.96, 9.28,\n",
    "                    2.32, 4.64, 6.96, 9.28],\n",
    "                  [0, -0.6976, -1.3952, -2.0928, -2.7904,\n",
    "                   1.3993, 2.7986, -1.3993, -2.7986, -4.1979,\n",
    "                  0.7017, 0.0041, -0.6935, -1.3911,\n",
    "                  2.101, 1.4034, 0.7058, 0.0082,\n",
    "                  -2.0969, -2.7945, -3.4921, -4.1897,\n",
    "                  -3.4962, -4.1938, -4.8914, -5.589] ] )"
   ]
  },
  {
   "cell_type": "code",
   "execution_count": 399,
   "id": "6dae19df-d5f3-441e-8ef1-45c123a01c07",
   "metadata": {},
   "outputs": [
    {
     "data": {
      "text/plain": [
       "array([[ 0.0000e+00,  2.3200e+00,  4.6400e+00,  6.9600e+00,  9.2800e+00,\n",
       "         0.0000e+00,  0.0000e+00,  0.0000e+00,  0.0000e+00,  0.0000e+00,\n",
       "         2.3200e+00,  4.6400e+00,  6.9600e+00,  9.2800e+00,  2.3200e+00,\n",
       "         4.6400e+00,  6.9600e+00,  9.2800e+00,  2.3200e+00,  4.6400e+00,\n",
       "         6.9600e+00,  9.2800e+00,  2.3200e+00,  4.6400e+00,  6.9600e+00,\n",
       "         9.2800e+00],\n",
       "       [ 0.0000e+00, -6.9760e-01, -1.3952e+00, -2.0928e+00, -2.7904e+00,\n",
       "         1.3993e+00,  2.7986e+00, -1.3993e+00, -2.7986e+00, -4.1979e+00,\n",
       "         7.0170e-01,  4.1000e-03, -6.9350e-01, -1.3911e+00,  2.1010e+00,\n",
       "         1.4034e+00,  7.0580e-01,  8.2000e-03, -2.0969e+00, -2.7945e+00,\n",
       "        -3.4921e+00, -4.1897e+00, -3.4962e+00, -4.1938e+00, -4.8914e+00,\n",
       "        -5.5890e+00]])"
      ]
     },
     "execution_count": 399,
     "metadata": {},
     "output_type": "execute_result"
    }
   ],
   "source": [
    "pts1"
   ]
  },
  {
   "cell_type": "markdown",
   "id": "e27b6d05-78fa-4bb9-b31f-3287ee9b3343",
   "metadata": {},
   "source": [
    "Andiamo a visualizzare in un grafico il reticolo reciproco 2D"
   ]
  },
  {
   "cell_type": "code",
   "execution_count": 405,
   "id": "b2455082-92ef-4427-9bbd-21b2edb08f7e",
   "metadata": {},
   "outputs": [
    {
     "data": {
      "image/png": "[encoded data removed]",
      "text/plain": [
       "<Figure size 576x432 with 1 Axes>"
      ]
     },
     "metadata": {
      "needs_background": "light"
     },
     "output_type": "display_data"
    }
   ],
   "source": [
    "#visualizziamo il reticolo reciproco 2D\n",
    "                    \n",
    "plt.scatter(pts1[0,:], pts1[1,:], color = 'black')\n",
    "\n",
    "#plottiamo i vettori di reticolo reciproco\n",
    "vectors = np.array([ [0, 0, b1[0], b1[1]], [0, 0, b2[0], b2[1]]])  \n",
    "X, Y, U, V = zip(*vectors)\n",
    "ax = plt.gca()\n",
    "ax.quiver(X, Y, U, V, angles='xy', scale_units='xy', scale=1, color=['dodgerblue', 'dodgerblue'] , label=' $b_1$, $b_2$')\n",
    "\n",
    "#fissiamo un limite agli assi x ed y \n",
    "ax.set_xlim([-1, 10])\n",
    "ax.set_ylim([-6, 5])\n",
    "plt.title(\"Reticolo reciproco Ir(311)\")\n",
    "plt.xlabel('$K_x$')\n",
    "plt.ylabel('$K_y$')\n",
    "plt.legend()\n",
    "plt.show()"
   ]
  },
  {
   "cell_type": "markdown",
   "id": "615ad778-763a-4acc-9b4e-51e5d96f2429",
   "metadata": {},
   "source": [
    "## Ricapitoliamo quindi i risultati trovati: "
   ]
  },
  {
   "cell_type": "markdown",
   "id": "8952f38f-ca22-4b8a-acf0-8a1cfc9f1fa7",
   "metadata": {},
   "source": [
    "### Reticolo diretto"
   ]
  },
  {
   "cell_type": "markdown",
   "id": "07512502-6d03-4e5d-91ed-01054b35d7c4",
   "metadata": {},
   "source": [
    "\n",
    "i vettori primitivi di reticolo diretto sono:\n",
    "\n",
    "$ a_1 = \\Big(2.7082 \\quad ; \\quad 0\\Big) $ $ \\\\ $ \n",
    "$ a_2 = \\Big(1.35 \\quad ; \\quad 4.49\\Big) $\n",
    "\n",
    "modulo dei due vettori di reticolo diretto:\n",
    "\n",
    "$\\vert a_1 \\vert = 2.7082$ angstrom $ \\\\ $\n",
    "$\\vert a_2 \\vert = 4.6885$ angstrom $ \\\\ $\n",
    "\n",
    "angolo tra $ a_1 $ e $ a_2 $: $\\quad$  73.26 deg "
   ]
  },
  {
   "cell_type": "markdown",
   "id": "a9a74e9e-c9b0-4fa0-a382-df703dfb71e3",
   "metadata": {},
   "source": [
    "### Reticolo reciproco"
   ]
  },
  {
   "cell_type": "markdown",
   "id": "04290042-ae5e-4f6d-bc71-a23cbe914d54",
   "metadata": {},
   "source": [
    "i vettori primitivi di reticolo reciproco sono:\n",
    "\n",
    "$ b_1 = \\Big(2.32 \\quad ; \\quad -0.6976\\Big) $ $ \\\\ $ \n",
    "$ b_2 = \\Big(0 \\quad ; \\quad 1.3993\\Big) $\n",
    "\n",
    "modulo dei due vettori di reticolo reciproco:\n",
    "\n",
    "$\\vert b_1 \\vert = 2.42265$ angstrom $ \\\\ $\n",
    "$\\vert b_2 \\vert = 1.39937$ angstrom $ \\\\ $\n",
    "\n",
    "angolo tra $ b_1 $ e $ b_2 $: $\\quad$  106.73 deg "
   ]
  },
  {
   "cell_type": "markdown",
   "id": "4e8582dd-9b27-491b-84df-74da10cab9cc",
   "metadata": {},
   "source": [
    "rapporto tra moduli di $ b_1 $ e $ b_2 $ con i vettori di reticolo reciproco del graphene $ G $: \n",
    "\n",
    "$\\vert G \\vert = 2.9444$ angstrom $ \\\\ $\n",
    "\n",
    "$ \\dfrac{\\vert b_1 \\vert}{\\vert G \\vert} = \\dfrac{2.4226}{2.9444} = \\boxed{0.8227} $ $ \\\\ $\n",
    "\n",
    "$ \\dfrac{\\vert b_2 \\vert}{\\vert G \\vert} = \\dfrac{1.3994}{2.9444} = \\boxed{0.4752} $ $ \\\\ $"
   ]
  },
  {
   "cell_type": "markdown",
   "id": "6af2dd3d-8c79-4d23-9093-fb747c66f647",
   "metadata": {},
   "source": [
    "Visualizziamo i due grafici l'uno accanto all'altro:"
   ]
  },
  {
   "cell_type": "code",
   "execution_count": 401,
   "id": "144011e4-0b59-486c-98aa-55f38d70e388",
   "metadata": {},
   "outputs": [
    {
     "data": {
      "image/png": "[encoded data removed]",
      "text/plain": [
       "<Figure size 720x720 with 2 Axes>"
      ]
     },
     "metadata": {
      "needs_background": "light"
     },
     "output_type": "display_data"
    }
   ],
   "source": [
    "fig, axes = plt.subplots(1,2, figsize=(10, 10))\n",
    "\n",
    "#grafico sulla sinistra \n",
    "\n",
    "ax = axes[0] \n",
    "vectors = np.array([ [0, 0, a1[0], a1[1]], [0, 0, a2[0], a2[1]]])\n",
    "X, Y, U, V = zip(*vectors)\n",
    "ax.quiver(X, Y, U, V, angles='xy', scale_units='xy', scale=1, color=['red', 'red'] , label=' $a_1$, $a_2$')\n",
    "ax.plot(pts[0,:], pts[1,:], 'o', color = 'black')\n",
    "ax.set_title(\"Reticolo diretto Ir(311)\")\n",
    "ax.set_xlabel(\"x [angstrom]\")\n",
    "ax.set_ylabel(\"y [angstrom]\")\n",
    "ax.set_xlim([-1, 25])\n",
    "ax.set_ylim([-1, 20])\n",
    "ax = plt.gca()\n",
    "\n",
    "\n",
    "#grafico sulla destra \n",
    "\n",
    "ax = axes[1]  \n",
    "vectors = np.array([ [0, 0, b1[0], b1[1]], [0, 0, b2[0], b2[1]]]) \n",
    "X, Y, U, V = zip(*vectors)\n",
    "ax.quiver(X, Y, U, V, angles='xy', scale_units='xy', scale=1, color=['dodgerblue', 'dodgerblue'] , label=' $b_1$, $b_2$')\n",
    "ax.plot(pts1[0,:], pts1[1,:], 'o',  color = 'black')\n",
    "ax.set_title(\"Reticolo reciproco Ir(311)\")\n",
    "ax.set_xlabel(\"$K_x$ \")\n",
    "ax.set_ylabel(\"$K_y$ \")\n",
    "ax.set_xlim([-1, 10])\n",
    "ax.set_ylim([-6, 5])\n",
    "ax = plt.gca()\n",
    "\n",
    "plt.show()"
   ]
  }
 ],
 "metadata": {
  "kernelspec": {
   "display_name": "Python 3 (ipykernel)",
   "language": "python",
   "name": "python3"
  },
  "language_info": {
   "codemirror_mode": {
    "name": "ipython",
    "version": 3
   },
   "file_extension": ".py",
   "mimetype": "text/x-python",
   "name": "python",
   "nbconvert_exporter": "python",
   "pygments_lexer": "ipython3",
   "version": "3.8.8"
  }
 },
 "nbformat": 4,
 "nbformat_minor": 5
}
