{
 "cells": [
  {
   "cell_type": "markdown",
   "id": "8c287847-1c8c-4583-96f3-866380d566e1",
   "metadata": {},
   "source": [
    "# LABORATORIO 06/04/22"
   ]
  },
  {
   "cell_type": "markdown",
   "id": "df67914c-1e71-4582-85f8-e3948c9fe7d3",
   "metadata": {},
   "source": [
    "(14:10) check pressione: $ \\quad $  $ 2.35x10^{-10} $ mbar"
   ]
  },
  {
   "cell_type": "markdown",
   "id": "501a3244-a2d7-458a-be40-249da143cfed",
   "metadata": {},
   "source": [
    "$ \\textbf{obiettivo giornata:} $ pulizia cristallo iridio (311) più pattern diffrazione"
   ]
  },
  {
   "cell_type": "markdown",
   "id": "f0fb2241-c094-42f3-b6f1-6593251f0a72",
   "metadata": {},
   "source": [
    "### coordinate LEED \n",
    "\n",
    "  X [mm]|   Y [mm] |  Z[mm] | $ \\theta $ [deg] | \n",
    "---|-----|---|-----|\n",
    "34.18  | 32.0 | 46.5   | 127.5   |    \n"
   ]
  },
  {
   "cell_type": "markdown",
   "id": "678fd397-260a-485c-b2f4-780e3d6e0495",
   "metadata": {},
   "source": [
    "(14:20) check pressione: $ \\quad $ $ 5.6x10^{-7} $ mbar"
   ]
  },
  {
   "cell_type": "markdown",
   "id": "0a1c44db-5dc8-4d56-a866-9ee583880721",
   "metadata": {},
   "source": [
    "### coordinate Sputtering\n",
    "\n",
    "  X [mm] |   Y [mm] |  Z [mm]|  energia [keV] |  emissione [$ \\mu $ A] |  campione [$ \\mu $ A] |\n",
    "----|------|----|----------|----------|----|\n",
    "23.0  | 17.0     | 15.5   | 1.0| 15 | 2.0  |    "
   ]
  },
  {
   "cell_type": "markdown",
   "id": "febbe260-00ab-45b9-9753-3526068c7bb2",
   "metadata": {},
   "source": [
    "(15.45) primo riscaldamento: arrivati ad una temperatura di $ T = 825 ^°C $ "
   ]
  },
  {
   "cell_type": "markdown",
   "id": "03a78de8-71e9-4b8f-9bd0-afee07249067",
   "metadata": {},
   "source": [
    "Secondo riscaldamento fino a $ T = 930 ^°C $, abbiamo visto il campione attraverso la finestra diventare incandescente ed assumere un coloro rosso molto intenso."
   ]
  },
  {
   "cell_type": "markdown",
   "id": "d7d828fc-a465-4396-a8f2-c922efbfe017",
   "metadata": {},
   "source": [
    "### Presa immagini LEED struttura (2x1) \n",
    "\n",
    "  E [ev] |   frames  |  image|  \n",
    "----|------|----|\n",
    "65  | 200| 6_4_22_000 |\n",
    "95  | 200| 6_4_22_001 |\n",
    "138| 200| 6_4_22_002|\n",
    "151  | 200| 6_4_22_003 |\n",
    "195  | 200| 6_4_22_004 |\n",
    "217| 200| 6_4_22_005 |\n",
    "275| 200| 6_4_22_006 |"
   ]
  },
  {
   "cell_type": "markdown",
   "id": "ccb38389-538b-4146-9a22-f6910a7b1425",
   "metadata": {},
   "source": [
    "(16:48) check pressione: $ \\quad $ $ 6.58x10^{-10} mbar $ . La superficie ricostruita è quella di $ \\textbf{minima energia} $."
   ]
  },
  {
   "cell_type": "markdown",
   "id": "7ae5810f-f577-4d9a-9e1f-68e82b69a485",
   "metadata": {},
   "source": [
    "### Apertura ossigeno \n",
    "\n",
    "(16.48) aperta valvola ingresso $ O_2 $, start del timer per saturare la superficie. $ \\\\ $\n",
    "\n",
    "check pressione: $ \\quad $ $ 1.13x10^{-7} $ mbar $ \\\\ $\n",
    "\n",
    "(16:53) chiusura valvola ingresso $ O_2 $, check immagine sul LEED: nulla di visibile. $ \\\\ $\n",
    "\n",
    "Aumento graduale di $ 100 ^° C $ in $ 100 ^° C $ della temperatura per ottenere la struttura (1x1) $ \\\\ $ \n",
    "\n",
    "(16:56) portati a $ T = 100^° C $ , $ p = 4.4x10^{-10} $ mbar, immagine LEED: nessuna differenza dalla (1x2) $ \\\\ $ \n",
    "\n",
    "(16:57) portati a $ T = 200^° C $ , $ p = 5.2x10^{-10} $ mbar, immagine LEED: nessuna differenza dalla (1x2) $ \\\\ $ \n",
    "\n",
    "(16:58) portati a $ T = 300^° C $ , $ p = 6.3x10^{-10} $ mbar, immagine LEED: nessuna differenza dalla (1x2)  $ \\\\ $\n",
    "\n",
    "(17:02) portati a $ T = 400^° C $ , $ p = 1.1x10^{-9} $ mbar, immagine LEED: possibile lieve diminuzione dell'intensità degli spot in mezzo $ \\\\ $ \n",
    "\n",
    "(17:07) staccato campione dalla terra, collegato al polo positivo della  \"bestia\" a $ V = 250 $ V $ \\\\ $\n",
    "\n",
    "(17:11) portati a $ T = 500^° C $ , immagine LEED: $\\textbf{ vediamo la (1x1)} $"
   ]
  },
  {
   "cell_type": "markdown",
   "id": "e5e6796d-4113-465d-b84d-c501913ce3fc",
   "metadata": {},
   "source": [
    "### Presa immagini LEED struttura (1x1)\n",
    "\n",
    "  E [ev] |   frames  |  image|  \n",
    "----|------|----|\n",
    "65  | 200| 6_4_22_007 |\n",
    "95  | 200| 6_4_22_008 |\n",
    "138| 200| 6_4_22_009|\n",
    "151  | 200| 6_4_22_010 |\n",
    "195  | 200| 6_4_22_011 |\n",
    "217| 200| 6_4_22_012 |\n",
    "275| 200| 6_4_22_013 |"
   ]
  },
  {
   "cell_type": "code",
   "execution_count": null,
   "id": "bbf141fe-3c71-4b78-93da-cbecac6db41a",
   "metadata": {},
   "outputs": [],
   "source": []
  }
 ],
 "metadata": {
  "kernelspec": {
   "display_name": "Python 3 (ipykernel)",
   "language": "python",
   "name": "python3"
  },
  "language_info": {
   "codemirror_mode": {
    "name": "ipython",
    "version": 3
   },
   "file_extension": ".py",
   "mimetype": "text/x-python",
   "name": "python",
   "nbconvert_exporter": "python",
   "pygments_lexer": "ipython3",
   "version": "3.9.12"
  }
 },
 "nbformat": 4,
 "nbformat_minor": 5
}
