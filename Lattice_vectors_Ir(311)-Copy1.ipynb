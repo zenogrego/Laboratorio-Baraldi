{
 "cells": [
  {
   "cell_type": "code",
   "execution_count": 44,
   "id": "7e95f5c8-9563-4613-b6ca-e68cc96a63c0",
   "metadata": {},
   "outputs": [],
   "source": [
    "import numpy as np\n",
    "import matplotlib.pyplot as plt\n",
    "plt.style.use(['science', 'notebook'])\n",
    "import sympy as smp"
   ]
  },
  {
   "cell_type": "markdown",
   "id": "21508d7c-ae87-49e1-9c2c-3ead9abb2fdf",
   "metadata": {},
   "source": [
    "# Lattice vectors and reciprocal lattice vectors"
   ]
  },
  {
   "cell_type": "markdown",
   "id": "552dc06c-3f5e-48be-a62c-a7ff14a83bc8",
   "metadata": {},
   "source": [
    "Dati i vettori di reticolo diretto $ a_1 $ ed $ a_2 $ vengolo calcolati i vettori di reticolo reciproco $ b_1 $ e $ b_2 $ attraverso la seguende formula per il caso 2D:\n",
    "\n",
    "\n",
    "$ \\left(\\begin{matrix} b_{1_x} & b_{2_x} \\\\ b_{1_y} & b_{2_x}\\end{matrix}\\right) $ = $ \\dfrac{2\\pi}{a_{1_x}a_{2_y}-a_{1_y}a_{2_x}} \\left(\\begin{matrix} a_{2_y} & -a_{1_y} \\\\ -a_{2_x} & a_{1_x}\\end{matrix}\\right) $\n",
    "\n",
    "i vettori primitivi di reticolo diretto sono:\n",
    "\n",
    "$ a_1 = \\Big(2.7082 \\quad ; \\quad 0\\Big) $ $ \\\\ $ \n",
    "$ a_2 = \\Big(1.35 \\quad ; \\quad 4.49\\Big) $"
   ]
  },
  {
   "cell_type": "code",
   "execution_count": 2,
   "id": "856383e4-e3ca-4279-89c4-8408cf812182",
   "metadata": {},
   "outputs": [],
   "source": [
    "#definiamo il parametro reticolare dell'Ir(311)\n",
    "\n",
    "a = 3.839     #angstrom"
   ]
  },
  {
   "cell_type": "code",
   "execution_count": 5,
   "id": "85344d99-367f-40fa-9123-83aedf9a1b5d",
   "metadata": {},
   "outputs": [],
   "source": [
    "#definiamo i vettori primitivi del reticolo diretto\n",
    "\n",
    "x = np.array([2.7082, 0])\n",
    "y = np.array([1.35  , 4.49])\n",
    "\n",
    "a1 =  x  #vettore primitivo a1\n",
    "a2 =  y  #vettore primitivo a2"
   ]
  },
  {
   "cell_type": "code",
   "execution_count": 6,
   "id": "97cde92a-9290-4d73-9b10-a385634c718e",
   "metadata": {},
   "outputs": [
    {
     "data": {
      "text/plain": [
       "array([2.7082, 0.    ])"
      ]
     },
     "execution_count": 6,
     "metadata": {},
     "output_type": "execute_result"
    }
   ],
   "source": [
    "a1         #vettore primitivo a1"
   ]
  },
  {
   "cell_type": "code",
   "execution_count": 7,
   "id": "0f61a687-d44e-4e37-996a-20480ab9a3dc",
   "metadata": {},
   "outputs": [
    {
     "data": {
      "text/plain": [
       "2.7082"
      ]
     },
     "execution_count": 7,
     "metadata": {},
     "output_type": "execute_result"
    }
   ],
   "source": [
    "#modulo del vettore primitivo a1\n",
    "\n",
    "np.linalg.norm(a1)"
   ]
  },
  {
   "cell_type": "code",
   "execution_count": 8,
   "id": "2da498b4-e46a-4ebd-baf7-b369b5d968d5",
   "metadata": {},
   "outputs": [
    {
     "data": {
      "text/plain": [
       "array([1.35, 4.49])"
      ]
     },
     "execution_count": 8,
     "metadata": {},
     "output_type": "execute_result"
    }
   ],
   "source": [
    "a2         #vettore primitivo a2"
   ]
  },
  {
   "cell_type": "code",
   "execution_count": 9,
   "id": "8925c189-06a5-4e25-b505-6fd51d4599e2",
   "metadata": {},
   "outputs": [
    {
     "data": {
      "text/plain": [
       "4.688560546692344"
      ]
     },
     "execution_count": 9,
     "metadata": {},
     "output_type": "execute_result"
    }
   ],
   "source": [
    "#modulo del vettore primitivo a2\n",
    "\n",
    "np.linalg.norm(a2)"
   ]
  },
  {
   "cell_type": "code",
   "execution_count": 10,
   "id": "0846ebea-5dcd-42a6-a6a8-2db5acd7d1c9",
   "metadata": {},
   "outputs": [
    {
     "data": {
      "text/plain": [
       "73.265640890211"
      ]
     },
     "execution_count": 10,
     "metadata": {},
     "output_type": "execute_result"
    }
   ],
   "source": [
    "#calcolo angolo tra i vettori a1 ed a2\n",
    "\n",
    "alpha = np.arctan(a2[1]/a2[0])  \n",
    "alpha  * 180 /  np.pi            #trosformiamolo da radianti a degrees"
   ]
  },
  {
   "cell_type": "code",
   "execution_count": 11,
   "id": "9a221dcd-a7cb-4d32-83e0-dbee8241fb6e",
   "metadata": {},
   "outputs": [
    {
     "data": {
      "image/png": "[encoded data removed]",
      "text/plain": [
       "<Figure size 576x432 with 1 Axes>"
      ]
     },
     "metadata": {
      "needs_background": "light"
     },
     "output_type": "display_data"
    }
   ],
   "source": [
    "#andiamo a plottare i vettori di reticolo diretto a1 e a2\n",
    "\n",
    "vectors = np.array([ [0, 0, a1[0], a1[1]], [0, 0, a2[0], a2[1]]])  \n",
    "X, Y, U, V = zip(*vectors)\n",
    "ax = plt.gca()\n",
    "ax.quiver(X, Y, U, V, angles='xy', scale_units='xy', scale=1, color=['red', 'red'] , label=' $a_1$, $a_2$')\n",
    "ax.set_xlim([-1, 10])\n",
    "ax.set_ylim([-1, 10])\n",
    "\n",
    "ax.set_title(\"vettori reticolo diretto\")\n",
    "ax.set_xlabel(\"x\", fontsize=20, color = 'red')\n",
    "ax.set_ylabel(\"y\", fontsize=20, color = 'red')\n",
    "\n",
    "\n",
    "plt.legend()\n",
    "plt.grid()\n",
    "plt.draw()\n",
    "plt.show()"
   ]
  },
  {
   "cell_type": "code",
   "execution_count": 12,
   "id": "72042c27-caf1-4ea6-864b-8ba71b008aee",
   "metadata": {},
   "outputs": [],
   "source": [
    "# andiamo a calcolare la formula per i vettori di reticolo reciproco \n",
    "\n",
    "# matrice( b1_x, b2_x, b1_y, b2_y) = 2 pigreco / (a1_x* a2_y - a1_y* a2_x) matrice ( a2_y, -a1_y, -a2_x, a1_x )\n"
   ]
  },
  {
   "cell_type": "code",
   "execution_count": 16,
   "id": "fac61902-f7d4-4119-8590-14ba3ec6d444",
   "metadata": {},
   "outputs": [],
   "source": [
    "#calcoliamo il primo termine a destra dell'equazione lo chiamiamo C\n",
    "\n",
    "C = (2 * np.pi) / (a1[0]*a2[1] - a1[1]*a2[0])"
   ]
  },
  {
   "cell_type": "code",
   "execution_count": 17,
   "id": "ff448998-1e95-4420-bf9c-6192eedea827",
   "metadata": {},
   "outputs": [
    {
     "data": {
      "text/plain": [
       "0.5167170517831423"
      ]
     },
     "execution_count": 17,
     "metadata": {},
     "output_type": "execute_result"
    }
   ],
   "source": [
    "C #visualizziamo il calcolo di C"
   ]
  },
  {
   "cell_type": "code",
   "execution_count": 18,
   "id": "b55ee29a-1e8c-47da-9aae-463a896c37d9",
   "metadata": {},
   "outputs": [],
   "source": [
    "#definiamo con M la matrice dei coefficienti dei vettori di reticolo diretto a1 ed a2\n",
    "\n",
    "M = np.array([[a2[1],-a1[1]],    \n",
    "              [-a2[0], a1[0]]]) "
   ]
  },
  {
   "cell_type": "code",
   "execution_count": 19,
   "id": "fecba813-e1ec-4530-a8ad-54ba46547268",
   "metadata": {},
   "outputs": [
    {
     "data": {
      "text/plain": [
       "array([[ 4.49  , -0.    ],\n",
       "       [-1.35  ,  2.7082]])"
      ]
     },
     "execution_count": 19,
     "metadata": {},
     "output_type": "execute_result"
    }
   ],
   "source": [
    "M  #visualizziamo la matrice dei vettori di reticolo diretto a1, a2"
   ]
  },
  {
   "cell_type": "code",
   "execution_count": 20,
   "id": "e480ebe4-e777-4928-b166-0307fb68fb90",
   "metadata": {},
   "outputs": [],
   "source": [
    "#calcoliamo la matrice dei vettori di reticolo reciproco b1 e b2 e la chiamiamo B\n",
    "\n",
    "B = C * M       #matrice dei vettori b1_x, b1_y, b2_x, b2_y"
   ]
  },
  {
   "cell_type": "code",
   "execution_count": 21,
   "id": "523cf4d8-fc39-4b67-89f3-e83da55e6f1d",
   "metadata": {},
   "outputs": [
    {
     "data": {
      "text/plain": [
       "array([[ 2.32005956, -0.        ],\n",
       "       [-0.69756802,  1.39937312]])"
      ]
     },
     "execution_count": 21,
     "metadata": {},
     "output_type": "execute_result"
    }
   ],
   "source": [
    "B #visualizziamo la matrice dei vettori di reticolo diretto b1, b2"
   ]
  },
  {
   "cell_type": "code",
   "execution_count": 22,
   "id": "33c3066a-9668-47a2-8cce-7d74a4269256",
   "metadata": {},
   "outputs": [],
   "source": [
    "#definiamo bene gli array in modo tale da scriverli dopo in maniera ordinata per il plot\n",
    "\n",
    "b1 = np.array([B[0,0], B[1,0]])  #sto identificando con questo nuovo vettore\n",
    "                                 #le componenti b1_x e b1_y\n",
    "    \n",
    "b2 = np.array([B[0,1], B[1,1]])  #sto identificando con questo nuovo vettore\n",
    "                                 #le componenti b2_x e b2_y"
   ]
  },
  {
   "cell_type": "code",
   "execution_count": 23,
   "id": "ac4a79bd-97a4-447a-8546-a790d10edc46",
   "metadata": {},
   "outputs": [
    {
     "data": {
      "text/plain": [
       "array([ 2.32005956, -0.69756802])"
      ]
     },
     "execution_count": 23,
     "metadata": {},
     "output_type": "execute_result"
    }
   ],
   "source": [
    "b1 #visualizziamo le componenti b1_x e b1_y"
   ]
  },
  {
   "cell_type": "code",
   "execution_count": 24,
   "id": "642bd045-636b-4f8e-b503-c6272bc17b65",
   "metadata": {},
   "outputs": [
    {
     "data": {
      "text/plain": [
       "2.4226591827936255"
      ]
     },
     "execution_count": 24,
     "metadata": {},
     "output_type": "execute_result"
    }
   ],
   "source": [
    "#modulo del vettore primitivo b1\n",
    "\n",
    "np.linalg.norm(b1)"
   ]
  },
  {
   "cell_type": "code",
   "execution_count": 25,
   "id": "09f4ac88-ddf6-4e68-9f3b-16add564b77f",
   "metadata": {},
   "outputs": [
    {
     "data": {
      "text/plain": [
       "array([-0.        ,  1.39937312])"
      ]
     },
     "execution_count": 25,
     "metadata": {},
     "output_type": "execute_result"
    }
   ],
   "source": [
    "b2 #visualizziamo le componenti b2_x e b2_y"
   ]
  },
  {
   "cell_type": "markdown",
   "id": "4fd6192a-07ab-4eb5-9d5f-334f89848fa0",
   "metadata": {},
   "source": [
    "i vettori primitivi di reticolo diretto sono:\n",
    "\n",
    "$ b_1 = \\Big(2.32 \\quad ; \\quad -0.6976\\Big) $ $ \\\\ $ \n",
    "$ b_2 = \\Big(0 \\quad ; \\quad 1.3993\\Big) $"
   ]
  },
  {
   "cell_type": "code",
   "execution_count": 28,
   "id": "083f6328-437e-48af-ad18-894b138258e5",
   "metadata": {},
   "outputs": [
    {
     "data": {
      "text/plain": [
       "1.3993731196391062"
      ]
     },
     "execution_count": 28,
     "metadata": {},
     "output_type": "execute_result"
    }
   ],
   "source": [
    "#modulo del vettore primitivo b2\n",
    "\n",
    "np.linalg.norm(b2)"
   ]
  },
  {
   "cell_type": "code",
   "execution_count": 38,
   "id": "e439a635-0b5a-4be9-aeb3-15545d15565e",
   "metadata": {},
   "outputs": [
    {
     "data": {
      "image/png": "[encoded data removed]",
      "text/plain": [
       "<Figure size 576x432 with 1 Axes>"
      ]
     },
     "metadata": {
      "needs_background": "light"
     },
     "output_type": "display_data"
    }
   ],
   "source": [
    "#andiamo a plottare i vettori di reticolo reciproco b1 e b2 \n",
    "\n",
    "vectors = np.array([ [0, 0, b1[0], b1[1]], [0, 0, b2[0], b2[1]]])\n",
    "X, Y, U, V = zip(*vectors)\n",
    "ax = plt.gca()\n",
    "ax.quiver(X, Y, U, V, angles='xy', scale_units='xy', scale=1, color=['cyan', 'cyan'], label='$b_1$, $b_2$')\n",
    "ax.set_xlim([-3, 10])\n",
    "ax.set_ylim([-5, 10])\n",
    "\n",
    "ax.set_title(\"vettori reticolo reciproco\")\n",
    "ax.set_xlabel('$k_x$', fontsize=20, color = 'cyan')\n",
    "ax.set_ylabel(\"$k_y$\", fontsize=20, color = 'cyan')\n",
    "\n",
    "\n",
    "plt.legend()\n",
    "plt.grid()\n",
    "plt.draw()\n",
    "plt.show()"
   ]
  },
  {
   "cell_type": "code",
   "execution_count": 30,
   "id": "79526899-5606-4ca6-a01c-fee0d89a49cc",
   "metadata": {},
   "outputs": [],
   "source": [
    "#calcoliamo l'angolo tra i due vettori b1 e b2"
   ]
  },
  {
   "cell_type": "code",
   "execution_count": 32,
   "id": "769343de-16a0-47c8-9ff8-e0b6ca7d2462",
   "metadata": {},
   "outputs": [
    {
     "data": {
      "text/plain": [
       "-0.2920696646769253"
      ]
     },
     "execution_count": 32,
     "metadata": {},
     "output_type": "execute_result"
    }
   ],
   "source": [
    "#calcoliamo l'angolo alpha tra l'asse k_x ed il vettore b1\n",
    "\n",
    "alpha = np.arctan ( b1[1] / b1[0] ) #arcotangente tra il rapporto tra b1_y e b1_x\n",
    "alpha  #visualizziamo alpha"
   ]
  },
  {
   "cell_type": "code",
   "execution_count": 33,
   "id": "eb4a8f5b-d950-409f-837d-0326a65534f2",
   "metadata": {},
   "outputs": [
    {
     "data": {
      "text/plain": [
       "-16.734359109789"
      ]
     },
     "execution_count": 33,
     "metadata": {},
     "output_type": "execute_result"
    }
   ],
   "source": [
    "alpha * 180 /  np.pi     #convertiamo alpha da radianti a degrees"
   ]
  },
  {
   "cell_type": "code",
   "execution_count": 34,
   "id": "6fda227a-6a40-4ba1-b3e9-773cd6e863ec",
   "metadata": {},
   "outputs": [
    {
     "data": {
      "text/plain": [
       "106.734359109789"
      ]
     },
     "execution_count": 34,
     "metadata": {},
     "output_type": "execute_result"
    }
   ],
   "source": [
    "#calcoliamo l'angolo gamma tra di due vettori b1 e b2 \n",
    "\n",
    "gamma = 90 - alpha * 180 /  np.pi \n",
    "gamma #visualizziamo gamma"
   ]
  }
 ],
 "metadata": {
  "kernelspec": {
   "display_name": "Python 3 (ipykernel)",
   "language": "python",
   "name": "python3"
  },
  "language_info": {
   "codemirror_mode": {
    "name": "ipython",
    "version": 3
   },
   "file_extension": ".py",
   "mimetype": "text/x-python",
   "name": "python",
   "nbconvert_exporter": "python",
   "pygments_lexer": "ipython3",
   "version": "3.8.8"
  }
 },
 "nbformat": 4,
 "nbformat_minor": 5
}
