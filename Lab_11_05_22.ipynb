{
 "cells": [
  {
   "cell_type": "markdown",
   "id": "5c732fe1-f1ba-42af-9894-1fb72ec7873f",
   "metadata": {},
   "source": [
    "# LABORATORIO 11/05/22"
   ]
  },
  {
   "cell_type": "markdown",
   "id": "b6a77c9a-905a-4534-945f-83646abe1088",
   "metadata": {},
   "source": [
    "$ \\textbf{obiettivo giornata:} $ pulizia campione e acquisizione immagini con lo SPA-LEED $ \\\\ $ \n",
    "\n",
    "$\\underline{Osservazione:} $ emissione filamento a 13 "
   ]
  },
  {
   "cell_type": "markdown",
   "id": "1ce82401-b0d2-4163-85b1-3447f61773fd",
   "metadata": {},
   "source": [
    "(14:29) start sputtering "
   ]
  },
  {
   "cell_type": "markdown",
   "id": "904a0268-6719-4fa2-a29c-b13eaf0a3315",
   "metadata": {},
   "source": [
    "(15:00) chiusura gas. Spostato il campione è collegato alla \"bestia\" e messo a $ V = 180 $ V. temperatura del campione portata a circa a $ T = 850^°C $ "
   ]
  },
  {
   "cell_type": "markdown",
   "id": "438ec745-53f1-4cdf-a69f-3946fe51faf8",
   "metadata": {},
   "source": [
    "(15:06) scendiamo di tensione a $ V = 150 $ V; apertura valvola $ O_2 $ e ci portiamo ad una pressione di circa $ 10^{-7} $ mbar"
   ]
  },
  {
   "cell_type": "markdown",
   "id": "1a2c93a3-22b4-42cf-a91e-0c47bc65c361",
   "metadata": {},
   "source": [
    "(15:10) check pressione: $ \\quad $ $ 1.36x10^{-7} $ mbar "
   ]
  },
  {
   "cell_type": "markdown",
   "id": "77820e66-d0fd-4467-b3e9-c23c5121f8f5",
   "metadata": {},
   "source": [
    "(15:10) start riscaldamento con $ O_2 $ per ripilire il carbonio in eccesso fino a $ T = 750 ^°C $ . Operazione da ripetere per 3 volte. "
   ]
  },
  {
   "cell_type": "markdown",
   "id": "fc8cea89-5a79-4fac-aa07-63cb08ce002f",
   "metadata": {},
   "source": [
    "(15:11) fine primo giro riscaldamento, aspettiamo che la temperatura scenda sui $ 100 ^°C $ e poi ripetiamo. $ \\\\ $ \n",
    "\n",
    "(15:13) start secondo giro riscaldamento. $ \\\\ $ \n",
    "\n",
    "(15:14) fine secondo giro riscaldamento. $ \\\\ $ \n",
    "\n",
    "(15:17) start terzo giro riscaldamento. $ \\\\ $ \n",
    "\n",
    "(15:18) fine terzo giro riscaldamento. $ \\\\ $ "
   ]
  },
  {
   "cell_type": "markdown",
   "id": "23bda53d-39a3-43a8-a38b-17a44042b687",
   "metadata": {},
   "source": [
    "(15:19) chiusura valvola $ O_2 $ e scendiamo in tensione a $ V = 100 $ V"
   ]
  },
  {
   "cell_type": "markdown",
   "id": "1723f63e-0783-4e26-9b13-b00ed52ae7b3",
   "metadata": {},
   "source": [
    "(15:20) apertura valvola $ H_2 $ e ci portiamo a circa $ 10^{-7} $ mbar "
   ]
  },
  {
   "cell_type": "markdown",
   "id": "5ed992c9-9de8-4df5-8ab4-e76fd15046e8",
   "metadata": {},
   "source": [
    "(15:23) check pressione: $ \\quad $ $ 1.20x10^{-7} $ mbar $ \\\\ $ \n",
    "\n",
    "(15:23) start riscaldamento $ H_2 $ fino a $ T = 500^°C $ "
   ]
  },
  {
   "cell_type": "markdown",
   "id": "3bcacd28-992f-489e-ac4b-fecc74fcc4fa",
   "metadata": {},
   "source": [
    "(15:24) fine primo giro riscaldamento  $ \\\\ $ \n",
    "\n",
    "(15:27) start secondo giro riscaldamento  $ \\\\ $ \n",
    "\n",
    "(15:29) fine secondo giro riscaldamento  $ \\\\ $ \n",
    "\n",
    "(15:24) fine primo giro riscaldamento  $ \\\\ $ \n",
    "\n",
    "(15:27) start terzo giro riscaldamento  $ \\\\ $ \n",
    "\n",
    "(15:28) fine terzo giro riscaldamento  $ \\\\ $ "
   ]
  },
  {
   "cell_type": "markdown",
   "id": "40d0a8f7-5868-4a64-bc93-f2940f40ff1b",
   "metadata": {},
   "source": [
    "### Configurazione Igor con i Dottorandi "
   ]
  },
  {
   "cell_type": "markdown",
   "id": "31392a1f-2fd3-47df-81f6-b7a80802a45b",
   "metadata": {},
   "source": [
    "Andiamo a riassumere in una tabella le energie alla quale il prof. vedeva gli spot più intensi."
   ]
  },
  {
   "cell_type": "markdown",
   "id": "079eb630-a211-48a2-9173-18828f9b2f63",
   "metadata": {},
   "source": [
    " N |     |   |   |   |   |    |    |   |   | \n",
    "---|-----|---|---|---|---|----|----|---|---|\n",
    "00 | 88    | 118  | 182   |    \n",
    "1   | 75    | 119  | 147  | $ \\textbf{186} $ |   \n",
    "2   |     |   |   |   |   |    |    |   |   |\n",
    " 3  |  93   | 181  |   \n",
    " 4  | 62   | 150   | 194|\n",
    " 5  | 74   | 98    |  196  |"
   ]
  },
  {
   "cell_type": "markdown",
   "id": "a431bc07-7792-4876-b40e-b2a1d800d250",
   "metadata": {},
   "source": [
    "andare in documenti -> cartella Wavemetrics -> cartella Igor Pro 9 Users file -> caricare i 6 file in Igor extension (64_bit) -> andare su ottieni informazioni e aprire con igor64.app per ognuno -> preferenze sistema -> sicurezza e privacy -> apri comunque "
   ]
  },
  {
   "cell_type": "markdown",
   "id": "209407d8-3cc8-488d-a883-1241ba53958d",
   "metadata": {},
   "source": [
    "### Presa immagini LEED \n",
    "\n",
    "  E [ev] |   frames  |  image|  \n",
    "----|------|----|\n",
    "75  | 200| 11_5_22_000 |\n",
    "120  | 200|11_5_22_001 |\n",
    "60| 200| 11_5_22_002|\n",
    "88| 200| 11_5_22_003 |"
   ]
  },
  {
   "cell_type": "code",
   "execution_count": null,
   "id": "8c62ba19-143a-45b0-8f15-ac31196fccae",
   "metadata": {},
   "outputs": [],
   "source": []
  }
 ],
 "metadata": {
  "kernelspec": {
   "display_name": "Python 3 (ipykernel)",
   "language": "python",
   "name": "python3"
  },
  "language_info": {
   "codemirror_mode": {
    "name": "ipython",
    "version": 3
   },
   "file_extension": ".py",
   "mimetype": "text/x-python",
   "name": "python",
   "nbconvert_exporter": "python",
   "pygments_lexer": "ipython3",
   "version": "3.9.12"
  }
 },
 "nbformat": 4,
 "nbformat_minor": 5
}
